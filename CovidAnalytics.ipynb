{
 "metadata": {
  "language_info": {
   "codemirror_mode": {
    "name": "ipython",
    "version": 3
   },
   "file_extension": ".py",
   "mimetype": "text/x-python",
   "name": "python",
   "nbconvert_exporter": "python",
   "pygments_lexer": "ipython3",
   "version": "3.7.0"
  },
  "orig_nbformat": 2,
  "kernelspec": {
   "name": "python370jvsc74a57bd0a031b1eb7484a507ebb12d05464a34f223ae960ce93f9c62433a24f2c355ff0d",
   "display_name": "Python 3.7.0 64-bit",
   "language": "python"
  }
 },
 "nbformat": 4,
 "nbformat_minor": 2,
 "cells": [
  {
   "source": [
    "# Python dos crias\n",
    "\n",
    "## Python ETL\n",
    "\n",
    "- baixar arquivo casos full no [link](https://brasil.io/dataset/covid19/files/)\n",
    "- converter .gz para CSV com o código abaixo\n",
    "\n",
    "## Power BI Analytics\n",
    "\n",
    "- Ler os dados no Power BI Desktop\n",
    "- Remover linhas desnecessárias"
   ],
   "cell_type": "markdown",
   "metadata": {}
  },
  {
   "cell_type": "code",
   "execution_count": 6,
   "metadata": {},
   "outputs": [],
   "source": [
    "import pandas as pd\n",
    "df = pd.read_csv('./data/caso_full.csv.gz')\n",
    "df.to_csv('./data/caso_full.csv')"
   ]
  }
 ]
}